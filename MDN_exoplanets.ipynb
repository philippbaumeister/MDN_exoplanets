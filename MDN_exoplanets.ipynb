{
 "cells": [
  {
   "cell_type": "markdown",
   "metadata": {},
   "source": [
    "# Introduction\n",
    "\n",
    "This notebook shows how to use the trained MDN models corresponding to the paper [Machine learning inference of the interior structure of low-mass exoplanets](). \n",
    "\n",
    "For further questions, feel free to contact the author:\n",
    "\n",
    "[Philipp Baumeister](mailto:philipp.baumeister@tu-berlin.de)"
   ]
  },
  {
   "cell_type": "markdown",
   "metadata": {},
   "source": [
    "# Imports"
   ]
  },
  {
   "cell_type": "code",
   "execution_count": null,
   "metadata": {
    "ExecuteTime": {
     "end_time": "2020-01-27T09:30:30.405554Z",
     "start_time": "2020-01-27T09:30:28.750433Z"
    }
   },
   "outputs": [],
   "source": [
    "import numpy as np\n",
    "\n",
    "import matplotlib.pyplot as plt\n",
    "\n",
    "import keras\n",
    "import mdn  # imports the MDN layer\n",
    "from tensorflow_probability import distributions as tfd\n",
    "import tensorflow as tf\n",
    "from tensorflow.python.util import deprecation\n",
    "deprecation._PRINT_DEPRECATION_WARNINGS = False\n",
    "\n",
    "import joblib\n",
    "\n",
    "from scipy.stats import norm as normal\n",
    "\n",
    "from ipywidgets import interactive, widgets\n",
    "from IPython.display import display, clear_output\n",
    "m_e = 5.9722e24 # Earth mass\n",
    "r_e = 6.371e6 # Earth radius"
   ]
  },
  {
   "cell_type": "markdown",
   "metadata": {},
   "source": [
    "# Functions"
   ]
  },
  {
   "cell_type": "code",
   "execution_count": null,
   "metadata": {
    "ExecuteTime": {
     "end_time": "2020-01-27T09:30:34.842268Z",
     "start_time": "2020-01-27T09:30:34.827876Z"
    }
   },
   "outputs": [],
   "source": [
    "def plot_normal_mix(mus, sigmas, alphas, ax, color=\"b\", label='', comp=True):\n",
    "    \"\"\"\n",
    "    Plots the normal mixture to axis=ax\n",
    "    comp=True plots all components of mixture model\n",
    "    \"\"\"\n",
    "    x = np.linspace(0,1, 250)\n",
    "    final = np.zeros_like(x)\n",
    "    for i, (weight_mix, mu_mix, sigma_mix) in enumerate(zip(alphas, mus, sigmas)):\n",
    "        temp = normal.pdf(x, mu_mix, sigma_mix) * weight_mix\n",
    "        final = final + temp\n",
    "        if comp:\n",
    "            ax.plot(x, temp, color=color, ls=\":\")\n",
    "    ax.plot(x, final, label=label, color=color, lw=3)\n",
    "    return final\n",
    "\n",
    "def unpack_predictions(prediction, components):\n",
    "    \"\"\" \n",
    "    Returns mus, sigs, alphas of predictions.\n",
    "    \"\"\"\n",
    "    return [prediction[:,i*components:(i+1)*components] for i in range(3)]\n",
    "\n",
    "def get_normal_mix(x, alphas, mus, sigmas):\n",
    "    \"\"\" \n",
    "    Returns the normal mixture for an array x and corresponding alphas, mus, sigs.\n",
    "    \"\"\"\n",
    "    final = np.zeros_like(x)\n",
    "    for i, (weight_mix, mu_mix, sigma_mix) in enumerate(zip(alphas, mus, sigmas)):\n",
    "        temp = normal.pdf(x, mu_mix, sigma_mix) * weight_mix\n",
    "        final = final + temp\n",
    "    return final\n",
    "\n",
    "def file_parameters(observables):\n",
    "    use_k2 = observables == \"MRk2\"\n",
    "    print(f\"Chosen model: {observables}\")\n",
    "    return dict(path=f\"./models/{observables}\", k2=use_k2)\n",
    "        \n",
    "class LoadModelsWidget():\n",
    "    def __init__(self):\n",
    "        self.title = widgets.Label(\"Choose model to load:\")\n",
    "        self.select = widgets.Dropdown(options=[(\"Mass, radius\", \"MR\"), (\"Mass, radius, k2\", \"MRk2\")], description=\"Observables:\")\n",
    "        self.button = widgets.Button(description=\"Load model\")\n",
    "        self.button.on_click(self.on_button_clicked)\n",
    "        self.out = widgets.Output()\n",
    "        self.vbox = widgets.VBox([self.title, self.select, self.button, self.out])\n",
    "        self.mdn_model = self.scaler = None \n",
    "        self.use_k2 = False\n",
    "        self.num_components = 20 # number of mixture components\n",
    "        display(self.vbox)\n",
    "    \n",
    "    def on_button_clicked(self, b):\n",
    "        with self.out:\n",
    "            clear_output()\n",
    "            p = file_parameters(self.select.value)\n",
    "            self.use_k2 = p[\"k2\"]\n",
    "            self.mdn_model, self.scaler = self.load_model(p[\"path\"])\n",
    "            \n",
    "    def load_model(self, path):\n",
    "        print(f\"Loading model {path}_mdn_model.hd5 ...\")\n",
    "        mdn_model = keras.models.load_model(f\"{path}_mdn_model.hd5\", \n",
    "                                            custom_objects={\"MDN\": mdn.MDN, \"loss_func\": mdn.get_mixture_loss_func(1, self.num_components)})\n",
    "\n",
    "        print(f\"Loading scaler {path}_scaler.pkl ...\")\n",
    "        scaler = joblib.load(f\"{path}_scaler.pkl\")\n",
    "        print(\"Finished loading models\")\n",
    "        return (mdn_model, scaler)"
   ]
  },
  {
   "cell_type": "markdown",
   "metadata": {},
   "source": [
    "# Load models\n",
    "\n",
    "There are two available models to choose from, based on the number of observables they were trained with:\n",
    "* Mass, radius\n",
    "* Mass, radius, fluid Love number k<sub>2</sub>\n",
    "\n",
    "> Note: Loading the MDN model may take up to a minute\n",
    "\n",
    "Click on the \"Load model\" button to load the chosen model."
   ]
  },
  {
   "cell_type": "code",
   "execution_count": null,
   "metadata": {
    "ExecuteTime": {
     "end_time": "2020-01-27T09:32:28.706468Z",
     "start_time": "2020-01-27T09:32:28.669438Z"
    }
   },
   "outputs": [],
   "source": [
    "model = LoadModelsWidget()"
   ]
  },
  {
   "cell_type": "markdown",
   "metadata": {},
   "source": [
    "# Predictions\n",
    "\n",
    "This section shows how to use the model to predict possible interior structures of the Earth based on Earth's mass, radius, and potentially k<sub>2</sub>. \n",
    "\n",
    "Inputs need to be scaled using *scaler.transform*. The scaler expects a list of input vectors in the form of `[log10(mass), radius, (k2)]`. Mass and radius are in kg and m, respectively.\n",
    "\n",
    "Predictions are returned as a list with 4 entries, relating to the core, mantle, ice, and gas envelope of the planet, respectively. Each individual entry contains a list of the predicted mixture parameters for each layer. The first n entries are the means, the second n entries are the std. deviations, the last n entries are the mixing weights (where n is the number of components. The current models all use 20 mixture components). Predictions can be split into their respective means, std. deviations, and alphas using the function `unpack_predictions`."
   ]
  },
  {
   "cell_type": "code",
   "execution_count": null,
   "metadata": {
    "ExecuteTime": {
     "end_time": "2020-01-27T09:48:00.799664Z",
     "start_time": "2020-01-27T09:48:00.772231Z"
    }
   },
   "outputs": [],
   "source": [
    "planet = dict(mass=1, radius=1, k2=0.933)\n",
    "if model.use_k2:\n",
    "    input_array = np.array([[np.log10(planet[\"mass\"]*m_e)], [planet[\"radius\"]*r_e], [planet[\"k2\"]]])\n",
    "else:\n",
    "    input_array = np.array([[np.log10(planet[\"mass\"]*m_e)], [planet[\"radius\"]*r_e]])\n",
    "# scale input data to be close to 1\n",
    "scaled_input = model.scaler.transform(input_array.T)\n",
    "print(input_array)\n",
    "print(scaled_input)\n",
    "\n",
    "# let the MDN make the prediction\n",
    "prediction = model.mdn_model.predict(scaled_input)\n",
    "\n",
    "# predictions are of the shape (number of interior layers (=4), number of planets, 3*m output nodes (m means, m variances, m weights))\n",
    "print(np.array(prediction).shape)\n",
    "print(prediction)"
   ]
  },
  {
   "cell_type": "markdown",
   "metadata": {},
   "source": [
    "## Plotting predictions\n",
    "\n",
    "The following code unpacks the prediction for a single planet from above and plots the predicted mixture density for each interior layer. "
   ]
  },
  {
   "cell_type": "code",
   "execution_count": null,
   "metadata": {
    "ExecuteTime": {
     "end_time": "2020-01-27T09:48:02.696586Z",
     "start_time": "2020-01-27T09:48:02.509631Z"
    }
   },
   "outputs": [],
   "source": [
    "colors = [\"#f44336\", \"#ffb507\", \"#03a9f4\", \"#2ecc71\"]\n",
    "predict_label = [\"core\", \"mantle\", \"ice\", \"gas\"]\n",
    "\n",
    "fig = plt.figure(figsize=(8,4))\n",
    "ax = fig.subplots(1, 1)\n",
    "\n",
    "for j in range(len(prediction)):\n",
    "    p = predict_label[j]\n",
    "    mus, sigs, alphas = unpack_predictions(prediction[j], model.num_components)\n",
    "    pdf = plot_normal_mix(mus[0], sigs[0], alphas[0], ax, label=p.title(), color=colors[j], comp=False)\n",
    "\n",
    "plt.xlim(0, 1)\n",
    "plt.ylim(0,10)\n",
    "ax.set_xticks(np.round(np.linspace(0, 1, 11), 2))\n",
    "ax.set_xticks(np.round(np.linspace(0, 1, 51), 2), minor=True)\n",
    "ax.set_yticks([])\n",
    "ax.set_yticklabels([])\n",
    "\n",
    "plt.xlabel(r\"Relative thickness of each layer\")\n",
    "plt.ylabel(r\"Probability density\")\n",
    "plt.legend(labelspacing=0.15, loc=\"center right\")\n",
    "plt.show()"
   ]
  },
  {
   "cell_type": "code",
   "execution_count": null,
   "metadata": {},
   "outputs": [],
   "source": []
  }
 ],
 "metadata": {
  "kernelspec": {
   "display_name": "Python 3",
   "language": "python",
   "name": "python3"
  },
  "language_info": {
   "codemirror_mode": {
    "name": "ipython",
    "version": 3
   },
   "file_extension": ".py",
   "mimetype": "text/x-python",
   "name": "python",
   "nbconvert_exporter": "python",
   "pygments_lexer": "ipython3",
   "version": "3.7.6"
  },
  "toc": {
   "base_numbering": 1,
   "nav_menu": {},
   "number_sections": true,
   "sideBar": true,
   "skip_h1_title": false,
   "title_cell": "Table of Contents",
   "title_sidebar": "Contents",
   "toc_cell": false,
   "toc_position": {},
   "toc_section_display": true,
   "toc_window_display": false
  }
 },
 "nbformat": 4,
 "nbformat_minor": 2
}
